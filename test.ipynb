{
 "cells": [
  {
   "cell_type": "code",
   "execution_count": 11,
   "metadata": {},
   "outputs": [],
   "source": [
    "import random\n",
    "import numpy as np"
   ]
  },
  {
   "cell_type": "code",
   "execution_count": 3,
   "metadata": {},
   "outputs": [
    {
     "data": {
      "text/plain": [
       "array([1759, 3474, 1548,  198, 2691,  458, 1054, 4403, 3569,  636])"
      ]
     },
     "execution_count": 3,
     "metadata": {},
     "output_type": "execute_result"
    }
   ],
   "source": [
    "np.random.choice(5000, 10, replace=False)"
   ]
  },
  {
   "cell_type": "code",
   "execution_count": 1,
   "metadata": {},
   "outputs": [],
   "source": [
    "import torch"
   ]
  },
  {
   "cell_type": "code",
   "execution_count": 2,
   "metadata": {},
   "outputs": [],
   "source": [
    "from torchvision.datasets import *"
   ]
  },
  {
   "cell_type": "code",
   "execution_count": 6,
   "metadata": {},
   "outputs": [],
   "source": [
    "def npy_loader(path):\n",
    "    sample = torch.from_numpy(np.load(path))\n",
    "    return sample\n",
    "    \n",
    "\n",
    "dataset = DatasetFolder(\n",
    "    root=\"./data/300K_random_images\",\n",
    "    loader=npy_loader,\n",
    "    extensions=['.npy']\n",
    ")"
   ]
  },
  {
   "cell_type": "code",
   "execution_count": 7,
   "metadata": {},
   "outputs": [
    {
     "data": {
      "text/plain": [
       "Dataset DatasetFolder\n",
       "    Number of datapoints: 1\n",
       "    Root location: ./data/300K_random_images"
      ]
     },
     "execution_count": 7,
     "metadata": {},
     "output_type": "execute_result"
    }
   ],
   "source": [
    "dataset"
   ]
  },
  {
   "cell_type": "code",
   "execution_count": 8,
   "metadata": {},
   "outputs": [],
   "source": [
    "train_loader_out = torch.utils.data.DataLoader(\n",
    "    dataset,\n",
    "    batch_size=128,\n",
    "    shuffle=False,\n",
    "    num_workers=4,\n",
    "    pin_memory=True,\n",
    ")"
   ]
  },
  {
   "cell_type": "code",
   "execution_count": 14,
   "metadata": {},
   "outputs": [
    {
     "name": "stdout",
     "output_type": "stream",
     "text": [
      "torch.Size([1, 300000, 32, 32, 3])\n",
      "torch.Size([1])\n"
     ]
    }
   ],
   "source": [
    "for batch, (inputs, targets) in enumerate(train_loader_out):\n",
    "    print(inputs.shape)\n",
    "    print(targets.shape)"
   ]
  },
  {
   "cell_type": "code",
   "execution_count": 3,
   "metadata": {},
   "outputs": [
    {
     "name": "stdout",
     "output_type": "stream",
     "text": [
      "tensor(3.4076)\n"
     ]
    }
   ],
   "source": [
    "import torch\n",
    "\n",
    "# Replace this with your specific tensor\n",
    "x = torch.tensor([1.0, 2.0, 3.0])\n",
    "\n",
    "# Calculate the log-sum-exp along dimension 0\n",
    "result = torch.logsumexp(x, dim=0)\n",
    "\n",
    "print(result)\n"
   ]
  },
  {
   "cell_type": "code",
   "execution_count": 1,
   "metadata": {},
   "outputs": [],
   "source": [
    "import pandas as pd"
   ]
  },
  {
   "cell_type": "code",
   "execution_count": 2,
   "metadata": {},
   "outputs": [],
   "source": [
    "path = \"results/cifar10_msp.csv\"\n",
    "df = pd.read_csv(path)"
   ]
  },
  {
   "cell_type": "code",
   "execution_count": 9,
   "metadata": {},
   "outputs": [],
   "source": [
    "data = [0.953125, 0.9296875, 0.9296875, 0.9375, 0.9765625, 0.921875, 0.90625, 0.9375, 0.953125, 0.9296875, 0.9375, 0.96875, 0.96875, 0.921875, 0.9453125, 0.921875, 0.96875, 0.90625, 0.96875, 0.9296875, 0.953125, 0.9609375, 0.9296875, 0.9609375, 0.953125, 0.9609375, 0.9453125, 0.953125, 0.9296875, 0.9453125, 0.96875, 0.9375, 0.921875, 0.9296875, 0.9453125, 0.9375, 0.9453125, 0.90625, 0.9453125, 0.9453125, 0.953125, 0.96875, 0.9375, 0.9296875, 0.921875, 0.96875, 0.96875, 0.9375, 0.9296875, 0.984375, 0.9453125, 0.9453125, 0.953125, 0.9453125, 0.9453125, 0.9375, 0.9375, 0.953125, 0.9453125, 0.9296875, 0.9609375, 0.9296875, 0.96875, 0.9765625, 0.9296875, 0.9609375, 0.9140625, 0.9453125, 0.90625, 0.96875, 0.9375, 0.9609375, 0.90625, 0.921875, 0.953125, 0.96875, 0.9375, 0.9609375, 0.9375]"
   ]
  },
  {
   "cell_type": "code",
   "execution_count": 10,
   "metadata": {},
   "outputs": [
    {
     "data": {
      "text/plain": [
       "79"
      ]
     },
     "execution_count": 10,
     "metadata": {},
     "output_type": "execute_result"
    }
   ],
   "source": [
    "len(data)"
   ]
  },
  {
   "cell_type": "code",
   "execution_count": 13,
   "metadata": {},
   "outputs": [],
   "source": [
    "dat = [95.0, 95.0, 94.83333333333333, 94.25, 94.4, 94.58333333333333, 94.78571428571429, 95.0, 95.0, 94.9, 95.04545454545455, 94.79166666666667, 94.53846153846153, 94.57142857142857, 94.63333333333334, 94.65625, 94.70588235294117, 94.72222222222223, 94.52631578947368, 94.6, 94.52380952380952, 94.63636363636364, 94.6304347826087, 94.54166666666667, 94.62, 94.71153846153847, 94.74074074074075, 94.75, 94.74137931034483, 94.78333333333333, 94.75806451612904, 94.765625, 94.78787878787878, 94.73529411764706, 94.74285714285715, 94.76388888888889, 94.77027027027027, 94.73684210526316, 94.73076923076923, 94.65, 94.6829268292683, 94.67857142857143, 94.66279069767442, 94.70454545454545, 94.68888888888888, 94.71739130434783, 94.69148936170212, 94.6875, 94.73469387755102, 94.73]"
   ]
  },
  {
   "cell_type": "code",
   "execution_count": 21,
   "metadata": {},
   "outputs": [],
   "source": [
    "highs = []\n",
    "for i, j in zip(data, dat):\n",
    "    if i*100 - j >= 0:\n",
    "        highs.append(i)        \n",
    "        \n",
    "        \n",
    "        "
   ]
  },
  {
   "cell_type": "code",
   "execution_count": 23,
   "metadata": {},
   "outputs": [
    {
     "data": {
      "text/plain": [
       "19"
      ]
     },
     "execution_count": 23,
     "metadata": {},
     "output_type": "execute_result"
    }
   ],
   "source": [
    "len(highs)"
   ]
  },
  {
   "cell_type": "code",
   "execution_count": null,
   "metadata": {},
   "outputs": [],
   "source": []
  }
 ],
 "metadata": {
  "kernelspec": {
   "display_name": "cssr",
   "language": "python",
   "name": "python3"
  },
  "language_info": {
   "codemirror_mode": {
    "name": "ipython",
    "version": 3
   },
   "file_extension": ".py",
   "mimetype": "text/x-python",
   "name": "python",
   "nbconvert_exporter": "python",
   "pygments_lexer": "ipython3",
   "version": "3.9.17"
  }
 },
 "nbformat": 4,
 "nbformat_minor": 2
}
