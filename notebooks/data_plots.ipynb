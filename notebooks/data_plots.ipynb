{
 "cells": [
  {
   "cell_type": "code",
   "execution_count": 2,
   "metadata": {},
   "outputs": [],
   "source": [
    "import matplotlib.pyplot as plt\n",
    "import numpy as np"
   ]
  },
  {
   "cell_type": "code",
   "execution_count": null,
   "metadata": {},
   "outputs": [],
   "source": [
    "maxids = [0.9901, 0.9966, 0.9984, 1.0000, 0.8526, 0.9886, 0.9474, 0.9999, 0.9664,\n",
    "        0.9975, 0.9997, 0.9909, 0.4384, 0.8996, 0.9774, 0.9963, 1.0000, 0.6745,\n",
    "        0.9919, 0.2002, 0.9069, 0.9451, 0.7942, 0.9777, 0.9021, 0.1494, 0.9998,\n",
    "        1.0000, 1.0000, 0.9999, 0.9995, 0.9902, 0.9995, 0.5268, 0.6738, 0.9751,\n",
    "        1.0000, 0.9986, 0.9691, 0.9857, 0.9978, 0.8993, 0.9993, 0.9912, 0.9992,\n",
    "        1.0000, 0.9900, 0.9876, 0.6802, 0.9784, 0.9995, 0.9889, 0.9995, 0.9953,\n",
    "        0.7846, 0.8344, 0.9890, 0.9734, 0.9964, 0.8989, 0.9994, 0.9992, 0.9968,\n",
    "        0.9990, 0.9987, 0.9285, 0.9449, 0.9927, 0.3066, 0.9731, 0.9048, 0.9976,\n",
    "        1.0000, 0.9369, 0.7606, 0.9848, 0.3780, 0.9993, 1.0000, 0.8423, 0.9973,\n",
    "        0.9796, 0.9975, 0.9789, 0.9785, 0.9980, 0.6033, 0.9998, 0.9999, 0.5082,\n",
    "        0.7435, 0.5911, 0.9737, 0.2686, 0.9322, 0.9994, 0.9323, 0.9990, 1.0000,\n",
    "        0.9954, 0.9079, 0.9748, 0.9916, 1.0000, 0.6217, 1.0000, 0.9978, 0.9759,\n",
    "        0.9992, 0.9158, 0.8743, 0.9998, 0.9881, 0.7847, 0.9925, 0.9980, 0.9785,\n",
    "        1.0000, 1.0000, 0.9805, 0.9824, 1.0000, 0.9267, 1.0000, 0.9995, 1.0000,\n",
    "        0.9947, 0.9878]"
   ]
  },
  {
   "cell_type": "code",
   "execution_count": null,
   "metadata": {},
   "outputs": [],
   "source": [
    "maxoods = [0.9919, 0.4536, 0.5773, 0.1505, 0.1904, 0.2419, 0.1574, 0.2039, 0.1419,\n",
    "        0.1459, 0.9767, 0.2357, 0.8849, 0.2912, 0.3985, 0.2171, 0.5527, 0.5952,\n",
    "        0.1960, 0.1357, 0.3070, 0.4774, 0.4181, 0.3397, 0.2835, 0.2895, 0.3253,\n",
    "        0.1846, 0.1782, 0.3967, 0.2561, 0.2171, 0.2576, 0.5307, 0.1350, 0.6995,\n",
    "        0.1511, 0.1983, 0.3130, 0.8317, 0.1184, 0.3021, 0.3914, 0.3222, 0.8487,\n",
    "        0.8602, 0.2798, 0.1582, 0.1896, 0.3529, 0.9992, 0.1902, 0.8640, 0.2166,\n",
    "        0.2101, 0.1647, 0.2405, 0.2692, 0.1944, 0.3916, 0.4243, 0.1835, 0.1770,\n",
    "        0.1927, 0.2966, 0.1621, 0.1412, 0.2335, 0.2560, 0.5313, 0.3671, 0.2858,\n",
    "        0.2641, 0.2808, 0.4159, 0.4152, 0.2882, 0.1764, 0.3314, 0.5533, 0.1798,\n",
    "        0.2206, 0.1866, 0.3791, 0.2800, 0.1682, 0.2772, 0.2055, 0.1484, 0.1858,\n",
    "        0.3010, 0.1407, 0.9976, 0.5695, 0.3064, 0.2103, 0.2754, 0.1497, 0.4575,\n",
    "        0.2006, 0.3044, 0.3560, 0.7975, 0.1382, 0.6630, 0.2602, 0.2294, 0.1853,\n",
    "        0.2053, 0.3676, 0.8217, 0.8632, 0.1613, 0.1647, 0.5304, 0.2576, 0.1588,\n",
    "        0.1981, 0.3350, 0.6479, 0.2202, 0.2058, 0.4988, 0.5982, 0.3607, 0.3835,\n",
    "        0.9972, 0.3055]"
   ]
  },
  {
   "cell_type": "code",
   "execution_count": null,
   "metadata": {},
   "outputs": [],
   "source": [
    "plt.plot(maxids, 'g+', maxoods, 'r*')\n",
    "plt.show()"
   ]
  },
  {
   "cell_type": "code",
   "execution_count": null,
   "metadata": {},
   "outputs": [],
   "source": [
    "# For margin ood\n",
    "maxids1 = [0.7296, 0.2830, 0.9985, 0.9968, 0.9998, 0.9993, 0.9961, 0.9912, 0.8813,\n",
    "        0.9824, 0.9917, 0.7122, 0.9938, 0.1584, 0.9849, 0.4957, 1.0000, 0.9995,\n",
    "        0.4412, 0.1777, 0.9898, 0.9998, 1.0000, 0.9724, 0.9962, 0.1506, 0.9982,\n",
    "        1.0000, 1.0000, 0.7694, 0.7816, 0.9988, 0.9788, 0.6873, 0.8739, 0.9955,\n",
    "        0.9747, 0.9884, 0.7722, 0.8088, 0.2209, 0.9251, 0.9982, 0.9983, 1.0000,\n",
    "        0.5816, 0.9970, 0.9759, 0.8962, 1.0000, 0.8539, 0.4983, 0.9842, 0.9803,\n",
    "        0.9078, 0.9955, 0.9953, 0.9989, 0.9943, 0.9711, 0.9657, 0.8765, 0.4788,\n",
    "        0.0717, 0.9233, 0.9528, 0.9666, 0.9961, 0.9427, 0.9832, 0.9909, 0.9991,\n",
    "        0.5842, 0.7845, 0.9401, 0.0663, 0.9983, 0.6501, 0.1906, 0.3173, 0.9990,\n",
    "        1.0000, 0.3329, 1.0000, 0.9978, 0.6354, 0.9861, 0.9811, 1.0000, 0.4334,\n",
    "        0.9218, 0.2313, 0.9786, 0.9976, 0.1005, 0.8351, 0.2179, 0.9798, 0.5720,\n",
    "        0.8808, 0.9624, 0.9999, 0.4050, 0.7182, 1.0000, 0.9971, 0.9996, 0.4273,\n",
    "        0.9970, 0.9029, 0.3680, 0.9873, 0.9034, 0.9861, 0.4320, 0.4283, 0.4621,\n",
    "        0.8130, 0.9978, 0.9994, 0.7997, 0.3404, 0.8987, 0.6839, 0.7321, 0.5889,\n",
    "        0.6374, 0.8323]\n",
    "maxoods1 = [0.1605, 0.1301, 0.5379, 0.0751, 0.0193, 0.0406, 0.0535, 0.0269, 0.0235,\n",
    "        0.5812, 0.0206, 0.0190, 0.0588, 0.5276, 0.0332, 0.0142, 0.0496, 0.0606,\n",
    "        0.0188, 0.0524, 0.0402, 0.0866, 0.2086, 0.0774, 0.3120, 0.0746, 0.0849,\n",
    "        0.0205, 0.0244, 0.2281, 0.5495, 0.3333, 0.0367, 0.0256, 0.1302, 0.0276,\n",
    "        0.3661, 0.5182, 0.4237, 0.0534, 0.0287, 0.0367, 0.1177, 0.2073, 0.0710,\n",
    "        0.1644, 0.0170, 0.3259, 0.0741, 0.0317, 0.0429, 0.2918, 0.0319, 0.0625,\n",
    "        0.7295, 0.5120, 0.1097, 0.0866, 0.0652, 0.2763, 0.0589, 0.1562, 0.0953,\n",
    "        0.1351, 0.0287, 0.0243, 0.2033, 0.0152, 0.1352, 0.0772, 0.2521, 0.0786,\n",
    "        0.3584, 0.2292, 0.0330, 0.0382, 0.0360, 0.0641, 0.0414, 0.4017, 0.1521,\n",
    "        0.0611, 0.2378, 0.3244, 0.1391, 0.2029, 0.0292, 0.8557, 0.4273, 0.0156,\n",
    "        0.0139, 0.0469, 0.0505, 0.5669, 0.2269, 0.1307, 0.0142, 0.4640, 0.0324,\n",
    "        0.0249, 0.1228, 0.0214, 0.0386, 0.6160, 0.1332, 0.1128, 0.4489, 0.3279,\n",
    "        0.2211, 0.0362, 0.0223, 0.2410, 0.0124, 0.0244, 0.1112, 0.1259, 0.2004,\n",
    "        0.2433, 0.1522, 0.0311, 0.0392, 0.3623, 0.2686, 0.0354, 0.0188, 0.0268,\n",
    "        0.2388, 0.1283]\n",
    "\n",
    "# For OE\n",
    "# maxids1 = [0.7756, 0.2269, 0.9922, 0.9966, 0.9994, 0.9990, 0.9951, 0.9933, 0.8987,\n",
    "#         0.8444, 0.9819, 0.5539, 0.9628, 0.2464, 0.9735, 0.4954, 0.9999, 0.9966,\n",
    "#         0.3730, 0.1408, 0.9781, 0.9990, 1.0000, 0.9740, 0.9811, 0.2043, 0.9973,\n",
    "#         1.0000, 0.9998, 0.7218, 0.7689, 0.9943, 0.9705, 0.6465, 0.8599, 0.9936,\n",
    "#         0.9586, 0.9867, 0.8881, 0.6559, 0.2046, 0.8838, 0.9881, 0.9898, 0.9997,\n",
    "#         0.6716, 0.9854, 0.8773, 0.7649, 0.9999, 0.7047, 0.6321, 0.9724, 0.9496,\n",
    "#         0.8183, 0.9946, 0.9879, 0.9931, 0.9962, 0.9275, 0.9373, 0.8196, 0.3159,\n",
    "#         0.0880, 0.8452, 0.8624, 0.8625, 0.9947, 0.8841, 0.9836, 0.9206, 0.9953,\n",
    "#         0.5880, 0.6776, 0.8968, 0.1126, 0.9962, 0.5082, 0.2191, 0.3773, 0.9993,\n",
    "#         1.0000, 0.4089, 0.9999, 0.9942, 0.5399, 0.9632, 0.9396, 0.9999, 0.6781,\n",
    "#         0.8437, 0.4068, 0.9636, 0.9934, 0.1131, 0.7365, 0.3623, 0.9613, 0.5461,\n",
    "#         0.8181, 0.9179, 0.9998, 0.4168, 0.7792, 0.9999, 0.9940, 0.9969, 0.3157,\n",
    "#         0.9927, 0.8395, 0.3442, 0.9693, 0.6217, 0.9856, 0.4165, 0.3548, 0.4140,\n",
    "#         0.7223, 0.9929, 0.9985, 0.9371, 0.3227, 0.8650, 0.5730, 0.5556, 0.4637,\n",
    "#         0.4895, 0.7145]\n",
    "# maxoods1 = [0.0431, 0.0157, 0.0493, 0.0869, 0.5374, 0.0851, 0.3462, 0.3269, 0.1299,\n",
    "#         0.0923, 0.1884, 0.0605, 0.3082, 0.1755, 0.0399, 0.1493, 0.0544, 0.1927,\n",
    "#         0.2229, 0.3738, 0.0202, 0.0178, 0.0245, 0.0667, 0.0689, 0.3700, 0.2666,\n",
    "#         0.1994, 0.1035, 0.0940, 0.0808, 0.0583, 0.1360, 0.0456, 0.1934, 0.2030,\n",
    "#         0.3448, 0.4514, 0.1027, 0.0319, 0.0577, 0.0821, 0.0897, 0.0885, 0.8523,\n",
    "#         0.0590, 0.0905, 0.4977, 0.5072, 0.4357, 0.2201, 0.0489, 0.0863, 0.2749,\n",
    "#         0.1702, 0.0250, 0.1722, 0.1086, 0.2008, 0.0256, 0.0407, 0.0369, 0.0451,\n",
    "#         0.0732, 0.1494, 0.0981, 0.0198, 0.1962, 0.0434, 0.4563, 0.0660, 0.1912,\n",
    "#         0.1300, 0.2856, 0.0347, 0.2087, 0.0500, 0.0496, 0.0392, 0.0495, 0.1399,\n",
    "#         0.0899, 0.0156, 0.0334, 0.0227, 0.0617, 0.0728, 0.7338, 0.0529, 0.0522,\n",
    "#         0.0325, 0.0253, 0.0346, 0.1601, 0.1499, 0.0181, 0.4169, 0.0239, 0.2093,\n",
    "#         0.1175, 0.0817, 0.0286, 0.0332, 0.8156, 0.1537, 0.0744, 0.0376, 0.0232,\n",
    "#         0.4578, 0.0811, 0.4002, 0.0364, 0.1609, 0.0450, 0.3406, 0.0408, 0.9996,\n",
    "#         0.0716, 0.0700, 0.1120, 0.1060, 0.2790, 0.0876, 0.5429, 0.3518, 0.0738,\n",
    "#         0.0344, 0.0379]\n"
   ]
  },
  {
   "cell_type": "code",
   "execution_count": null,
   "metadata": {},
   "outputs": [],
   "source": [
    "diff = np.subtract(maxids1, maxoods1)"
   ]
  },
  {
   "cell_type": "code",
   "execution_count": null,
   "metadata": {},
   "outputs": [],
   "source": [
    "[d for d in diff if d < 0]"
   ]
  },
  {
   "cell_type": "code",
   "execution_count": null,
   "metadata": {},
   "outputs": [],
   "source": [
    "# Splitting the list into positive and negative, while keeping the index\n",
    "positive_numbers = [(i, x) for i, x in enumerate(diff) if x > 0]\n",
    "negative_numbers = [(i, x) for i, x in enumerate(diff) if x < 0]\n",
    "\n",
    "# Counting positive and negative numbers\n",
    "num_positive = len(positive_numbers)\n",
    "num_negative = len(negative_numbers)\n",
    "\n",
    "# Data for the bar graph\n",
    "categories = ['Positive', 'Negative']\n",
    "counts = [num_positive, num_negative]\n",
    "\n",
    "# Creating the plots\n",
    "plt.figure(figsize=(14, 6))\n",
    "\n",
    "# First subplot for the line plot\n",
    "plt.subplot(1, 2, 1)  # 1 row, 2 columns, 1st subplot\n",
    "plt.plot(*zip(*positive_numbers), marker='o', color='green', label='Positive')  # Plot positive numbers in green\n",
    "plt.plot(*zip(*negative_numbers), marker='o', color='red', label='Negative')  # Plot negative numbers in red\n",
    "plt.axhline(0, color='black', linewidth=1.5)  # Horizontal line at y=0\n",
    "plt.axvline(0, color='black', linewidth=1.5)  # Vertical line at x=0\n",
    "plt.xlabel('Index')\n",
    "plt.ylabel('Values')\n",
    "plt.title('Plot of Numbers with Positive and Negative Elements')\n",
    "plt.legend()  # Add a legend to differentiate between positive and negative\n",
    "\n",
    "# Second subplot for the bar graph\n",
    "plt.subplot(1, 2, 2)  # 1 row, 2 columns, 2nd subplot\n",
    "plt.bar(categories, counts, color=['green', 'red'])\n",
    "plt.xlabel('Category')\n",
    "plt.ylabel('Count')\n",
    "plt.title('Count of Positive and Negative Numbers')\n",
    "\n",
    "# Adjust layout and display the plot\n",
    "plt.tight_layout()\n",
    "plt.show()"
   ]
  },
  {
   "cell_type": "code",
   "execution_count": null,
   "metadata": {},
   "outputs": [],
   "source": [
    "import seaborn as sns\n",
    "hfont = {'fontname':'Helvetica'}\n",
    "\n",
    "sns.kdeplot(maxids1, fill=True, color=\"green\")\n",
    "sns.kdeplot(maxoods12, fill=True, color=\"red\")\n",
    "plt.ylabel('Density')\n",
    "plt.legend([\"ID\", \"OOD\"])\n",
    "plt.savefig(\"oodsonly.pdf\")"
   ]
  },
  {
   "cell_type": "code",
   "execution_count": null,
   "metadata": {},
   "outputs": [],
   "source": [
    "# Stats of total number of negative values in each batch obtained after maxid-maxood\n",
    "maxs = [16, 10, 9,9,9,8,9,9,8,9]\n",
    "medians = [5.78, 3.84, 3.3, 3.37, 3.41, 3.10, 3.09, 2.90, 2.87, 2.89]"
   ]
  },
  {
   "cell_type": "code",
   "execution_count": null,
   "metadata": {},
   "outputs": [],
   "source": [
    "plt.plot(maxs, 'b', medians, 'r')\n",
    "plt.xlabel('Epochs')\n",
    "plt.ylabel('No. of Misclassified Events')\n",
    "plt.legend([\"max\", \"median\"])\n",
    "plt.grid()\n",
    "plt.show()"
   ]
  },
  {
   "cell_type": "code",
   "execution_count": null,
   "metadata": {},
   "outputs": [],
   "source": [
    "## plotting test inscores and outscores"
   ]
  },
  {
   "cell_type": "code",
   "execution_count": 1,
   "metadata": {},
   "outputs": [],
   "source": [
    "import pandas as pd\n",
    "import csv"
   ]
  },
  {
   "cell_type": "markdown",
   "metadata": {},
   "source": [
    "For MaCS"
   ]
  },
  {
   "cell_type": "code",
   "execution_count": null,
   "metadata": {},
   "outputs": [],
   "source": [
    "# Load cifar10 test for both methods\n",
    "with open('test_scores/inscores_c10.csv', newline='') as f:\n",
    "    reader = csv.reader(f)\n",
    "    inscores_c10_macs = list(reader)\n",
    "\n",
    "with open('test_scores/outscores_c10.csv', newline='') as f:\n",
    "    reader = csv.reader(f)\n",
    "    outscores_c10_macs = list(reader)\n",
    "\n",
    "with open('test_scores/inscores_c10_oe.csv', newline='') as f:\n",
    "    reader = csv.reader(f)\n",
    "    inscores_c10_oe = list(reader)\n",
    "\n",
    "with open('test_scores/outscores_c10_oe.csv', newline='') as f:\n",
    "    reader = csv.reader(f)\n",
    "    outscores_c10_oe = list(reader)"
   ]
  },
  {
   "cell_type": "code",
   "execution_count": null,
   "metadata": {},
   "outputs": [],
   "source": [
    "# Load cifar100 test for both methods\n",
    "with open('test_scores/inscores_c100.csv', newline='') as f:\n",
    "    reader = csv.reader(f)\n",
    "    inscores_c100_macs = list(reader)\n",
    "\n",
    "with open('test_scores/outscores_c100.csv', newline='') as f:\n",
    "    reader = csv.reader(f)\n",
    "    outscores_c100_macs = list(reader)\n",
    "\n",
    "with open('inscores.csv', newline='') as f:\n",
    "    reader = csv.reader(f)\n",
    "    inscores_c100_oe = list(reader)\n",
    "\n",
    "with open('outscores.csv', newline='') as f:\n",
    "    reader = csv.reader(f)\n",
    "    outscores_c100_oe = list(reader)"
   ]
  },
  {
   "cell_type": "code",
   "execution_count": null,
   "metadata": {},
   "outputs": [],
   "source": [
    "import numpy as np"
   ]
  },
  {
   "cell_type": "code",
   "execution_count": null,
   "metadata": {},
   "outputs": [],
   "source": [
    "# macs c10\n",
    "plot_inscore_macs_c10 = sorted([float(inscore) for inscore in inscores_c10_macs[0]])\n",
    "plot_outscore_macs_c10 = sorted([float(outscore) for outscore in outscores_c10_macs[0]])\n",
    "\n",
    "# oe c10\n",
    "plot_inscore_oe_c10 = sorted([float(inscore) for inscore in inscores_c10_oe[0]])\n",
    "plot_outscore_oe_c10 = sorted([float(outscore) for outscore in outscores_c10_oe[0]])\n",
    "\n",
    "#macs c100\n",
    "plot_inscore_macs_c100 = sorted([float(inscore) for inscore in inscores_c100_macs[0]])\n",
    "plot_outscore_macs_c100 = sorted([float(outscore) for outscore in outscores_c100_macs[0]])\n",
    "\n",
    "# oe c100\n",
    "plot_inscore_oe_c100 = sorted([float(inscore) for inscore in inscores_c100_oe[0]])\n",
    "plot_outscore_oe_c100 = sorted([float(outscore) for outscore in outscores_c100_oe[0]])"
   ]
  },
  {
   "cell_type": "markdown",
   "metadata": {},
   "source": [
    "Boxplots"
   ]
  },
  {
   "cell_type": "code",
   "execution_count": null,
   "metadata": {},
   "outputs": [],
   "source": [
    "import matplotlib.pyplot as plt\n",
    "\n",
    "# Combine the lists into a list of lists\n",
    "data = [plot_inscore_macs_c100, plot_outscore_macs_c100, plot_inscore_oe_c100, plot_outscore_oe_c100]\n",
    "\n",
    "# Creating the box plot\n",
    "plt.figure(figsize=(10, 8))  # You can adjust the figure size as needed\n",
    "box = plt.boxplot(data, vert=True,showfliers=False, patch_artist=True, labels=['ID MaCS', 'OOD MaCS', 'ID OE', 'OOD OE'])  # Add custom labels for each box plot\n",
    "\n",
    "# Adding colors\n",
    "colors = ['lightblue', 'lightgreen', 'lightyellow', 'gray']  # You can customize the colors\n",
    "for patch, color in zip(box['boxes'], colors):\n",
    "    patch.set_facecolor(color)\n",
    "\n",
    "# Adding title and labels\n",
    "plt.title('Confidence Scores Box Plots')  # You can customize the title\n",
    "plt.ylabel('Confidence Score')  # You can customize the y-axis label\n",
    "plt.grid(True)\n",
    "# plt.legend([box[\"boxes\"][0], box[\"boxes\"][1], box[\"boxes\"][2], box[\"boxes\"][3]], ['Score 1', 'Score 2', 'Score 3', 'Score 4'], loc='upper right')  # Adding legend\n",
    "plt.show()"
   ]
  },
  {
   "cell_type": "code",
   "execution_count": 3,
   "metadata": {},
   "outputs": [],
   "source": [
    "# Load cifar100 test for both methods\n",
    "#Macs\n",
    "with open('test_scores/inscores_isun_macs.csv', newline='') as f:\n",
    "    reader = csv.reader(f)\n",
    "    inscores_c100_macs_isun = list(reader)\n",
    "\n",
    "with open('test_scores/outscores_isun_macs.csv', newline='') as f:\n",
    "    reader = csv.reader(f)\n",
    "    outscores_c100_macs_isun = list(reader)\n",
    "\n",
    "# OE\n",
    "with open('test_scores/inscores_isun_oe.csv', newline='') as f:\n",
    "    reader = csv.reader(f)\n",
    "    inscores_c100_oe_isun = list(reader)\n",
    "\n",
    "with open('test_scores/outscores_isun_oe.csv', newline='') as f:\n",
    "    reader = csv.reader(f)\n",
    "    outscores_c100_oe_isun = list(reader)\n",
    "\n",
    "# CE\n",
    "with open('test_scores/inscores_isun_ce.csv', newline='') as f:\n",
    "    reader = csv.reader(f)\n",
    "    inscores_c100_ce_isun = list(reader)\n",
    "\n",
    "with open('test_scores/outscores_isun_ce.csv', newline='') as f:\n",
    "    reader = csv.reader(f)\n",
    "    outscores_c100_ce_isun = list(reader) "
   ]
  },
  {
   "cell_type": "code",
   "execution_count": 4,
   "metadata": {},
   "outputs": [],
   "source": [
    "#macs c100\n",
    "plot_inscore_macs_c100_isun = sorted([float(inscore) for inscore in inscores_c100_macs_isun[0]])\n",
    "plot_outscore_macs_c100_isun = sorted([float(outscore) for outscore in outscores_c100_macs_isun[0]])\n",
    "\n",
    "# oe c100\n",
    "plot_inscore_oe_c100_isun = sorted([float(inscore) for inscore in inscores_c100_oe_isun[0]])\n",
    "plot_outscore_oe_c100_isun = sorted([float(outscore) for outscore in outscores_c100_oe_isun[0]])\n",
    "\n",
    "# ce c100\n",
    "plot_inscore_ce_c100_isun = sorted([float(inscore) for inscore in inscores_c100_ce_isun[0]])\n",
    "plot_outscore_ce_c100_isun = sorted([float(outscore) for outscore in outscores_c100_ce_isun[0]])"
   ]
  },
  {
   "cell_type": "code",
   "execution_count": 5,
   "metadata": {},
   "outputs": [],
   "source": [
    "# Function to calculate statistics\n",
    "def calculate_stats(scores):\n",
    "    Q1 = np.percentile(scores, 25)\n",
    "    Q3 = np.percentile(scores, 75)\n",
    "    median = np.median(scores)\n",
    "    IQR = Q3 - Q1\n",
    "    lower_whisker = np.min([point for point in scores if point >= Q1 - 1.5 * IQR])\n",
    "    upper_whisker = np.max([point for point in scores if point <= Q3 + 1.5 * IQR])\n",
    "    outliers = [point for point in scores if point < lower_whisker or point > upper_whisker]\n",
    "    return {\"median\": median, \"Q1\": Q1, \"Q3\": Q3, \"lower_whisker\": lower_whisker, \"upper_whisker\": upper_whisker, \"outliers\": outliers}"
   ]
  },
  {
   "cell_type": "code",
   "execution_count": 6,
   "metadata": {},
   "outputs": [
    {
     "data": {
      "text/plain": [
       "[{'median': 0.8850863873958588,\n",
       "  'Q1': 0.51356540620327,\n",
       "  'Q3': 0.9900374263525009,\n",
       "  'lower_whisker': 0.046664975583553314,\n",
       "  'upper_whisker': 1.0,\n",
       "  'outliers': []},\n",
       " {'median': 0.21252813190221786,\n",
       "  'Q1': 0.11789200082421303,\n",
       "  'Q3': 0.42142052203416824,\n",
       "  'lower_whisker': 0.02586529031395912,\n",
       "  'upper_whisker': 0.8747148513793945,\n",
       "  'outliers': [0.8816965222358704,\n",
       "   0.8875975608825684,\n",
       "   0.9096486568450928,\n",
       "   0.9279084801673889,\n",
       "   0.9557069540023804,\n",
       "   0.9575161933898926,\n",
       "   0.959449052810669,\n",
       "   0.9805924892425537,\n",
       "   0.9831063747406006,\n",
       "   0.9884172081947327,\n",
       "   0.9974532723426819,\n",
       "   0.9996591806411743]},\n",
       " {'median': 0.9502650201320648,\n",
       "  'Q1': 0.628040537238121,\n",
       "  'Q3': 0.9975472688674927,\n",
       "  'lower_whisker': 0.09451377391815186,\n",
       "  'upper_whisker': 1.0,\n",
       "  'outliers': [0.043747808784246445,\n",
       "   0.04438690468668938,\n",
       "   0.05400469899177551,\n",
       "   0.0612187534570694,\n",
       "   0.06556801497936249]},\n",
       " {'median': 0.5064583420753479,\n",
       "  'Q1': 0.20724257454276085,\n",
       "  'Q3': 0.9086686968803406,\n",
       "  'lower_whisker': 0.040033742785453796,\n",
       "  'upper_whisker': 1.0,\n",
       "  'outliers': []},\n",
       " {'median': 0.950387716293335,\n",
       "  'Q1': 0.6599675714969635,\n",
       "  'Q3': 0.9984955340623856,\n",
       "  'lower_whisker': 0.18760256469249725,\n",
       "  'upper_whisker': 0.9999985694885254,\n",
       "  'outliers': [0.1493820697069168]},\n",
       " {'median': 0.7171927690505981,\n",
       "  'Q1': 0.502552293241024,\n",
       "  'Q3': 0.9253356605768204,\n",
       "  'lower_whisker': 0.12953081727027893,\n",
       "  'upper_whisker': 0.9999524354934692,\n",
       "  'outliers': []}]"
      ]
     },
     "execution_count": 6,
     "metadata": {},
     "output_type": "execute_result"
    }
   ],
   "source": [
    "# Calculate and print statistics for all lists\n",
    "data = [plot_inscore_macs_c100_isun, plot_outscore_macs_c100_isun, plot_inscore_oe_c100_isun, plot_outscore_oe_c100_isun, plot_inscore_ce_c100_isun, plot_outscore_ce_c100_isun]\n",
    "\n",
    "all_stats = [calculate_stats(scores) for scores in data]\n",
    "all_stats"
   ]
  },
  {
   "cell_type": "code",
   "execution_count": null,
   "metadata": {},
   "outputs": [],
   "source": [
    "import matplotlib.pyplot as plt\n",
    "\n",
    "# Combine the lists into a list of lists\n",
    "data = [plot_inscore_macs_c100_isun, plot_outscore_macs_c100_isun, plot_inscore_oe_c100_isun, plot_outscore_oe_c100_isun]\n",
    "\n",
    "# Creating the box plot\n",
    "plt.figure(figsize=(10, 8))  # You can adjust the figure size as needed\n",
    "box = plt.boxplot(data, vert=True, patch_artist=True, labels=['ID MaCS', 'OOD MaCS', 'ID OE', 'OOD OE'])  # Add custom labels for each box plot\n",
    "\n",
    "# Adding colors\n",
    "colors = ['lightblue', 'lightgreen', 'lightyellow', 'lightcoral']  # You can customize the colors\n",
    "for patch, color in zip(box['boxes'], colors):\n",
    "    patch.set_facecolor(color)\n",
    "\n",
    "# Adding title and labels\n",
    "plt.title('Confidence Scores Box Plots')  # You can customize the title\n",
    "plt.ylabel('Confidence Score')  # You can customize the y-axis label\n",
    "plt.grid(True)\n",
    "# plt.legend([box[\"boxes\"][0], box[\"boxes\"][1], box[\"boxes\"][2], box[\"boxes\"][3]], ['Score 1', 'Score 2', 'Score 3', 'Score 4'], loc='upper right')  # Adding legend\n",
    "plt.show()"
   ]
  },
  {
   "cell_type": "code",
   "execution_count": null,
   "metadata": {},
   "outputs": [],
   "source": [
    "inscore_mean_macs_isun = np.mean(plot_inscore_macs_c100_isun)\n",
    "inscore_std_macs_isun = np.std(plot_inscore_macs_c100_isun)\n",
    "\n",
    "outscore_mean_macs_isun = np.mean(plot_outscore_macs_c100_isun)\n",
    "outscore_std_macs_isun = np.std(plot_outscore_macs_c100_isun)\n",
    "\n",
    "\n",
    "inscore_mean_oe_isun = np.mean(plot_inscore_oe_c100_isun)\n",
    "inscore_std_oe_isun = np.std(plot_inscore_oe_c100_isun)\n",
    "\n",
    "outscore_mean_oe_isun = np.mean(plot_outscore_oe_c100_isun)\n",
    "outscore_std_oe_isun = np.std(plot_outscore_oe_c100_isun)"
   ]
  },
  {
   "cell_type": "code",
   "execution_count": null,
   "metadata": {},
   "outputs": [],
   "source": [
    "\n",
    "\n",
    "x1 = ['ID MaCS']\n",
    "x2 = ['OOD MaCS']\n",
    "x3 = ['ID OE']\n",
    "x4 = ['OOD OE']\n",
    "\n",
    "plt.errorbar(x1, inscore_mean_macs_isun, inscore_std_macs_isun, marker='s', mfc='red',\n",
    "         mec='green', ms=10, mew=4)\n",
    "plt.errorbar(x2, outscore_mean_macs_isun, outscore_std_macs_isun, marker='s', mfc='blue',\n",
    "         mec='green', ms=10, mew=4)\n",
    "\n",
    "plt.errorbar(x3, inscore_mean_oe_isun, inscore_std_oe_isun, marker='s', mfc='white',\n",
    "         mec='green', ms=10, mew=4)\n",
    "plt.errorbar(x4, outscore_mean_oe_isun, outscore_std_oe_isun, marker='s', mfc='blue',\n",
    "         mec='green', ms=10, mew=4)\n",
    "\n",
    "plt.show()"
   ]
  },
  {
   "cell_type": "code",
   "execution_count": null,
   "metadata": {},
   "outputs": [],
   "source": []
  },
  {
   "cell_type": "markdown",
   "metadata": {},
   "source": [
    "CIFAR10"
   ]
  },
  {
   "cell_type": "markdown",
   "metadata": {},
   "source": [
    "KDE plots"
   ]
  },
  {
   "cell_type": "code",
   "execution_count": null,
   "metadata": {},
   "outputs": [],
   "source": [
    "from scipy.stats import gaussian_kde\n",
    "\n",
    "# Compute KDEs\n",
    "kde1 = gaussian_kde(plot_inscore_oe_c100)\n",
    "kde2 = gaussian_kde(plot_outscore_oe_c100)\n",
    "\n",
    "# Define a range over which to evaluate the KDEs\n",
    "x = np.linspace(-0.2, 1.4)\n",
    "\n",
    "# Evaluate KDEs\n",
    "kde_values1 = kde1(x)\n",
    "kde_values2 = kde2(x)\n",
    "\n",
    "# Plot the KDEs (optional, for your reference)\n",
    "plt.figure(figsize=(8, 4))\n",
    "plt.plot(x, kde_values1, label='KDE of List 1')\n",
    "plt.plot(x, kde_values2, label='KDE of List 2')\n",
    "plt.legend()\n",
    "plt.show()\n",
    "\n",
    "# Output data points for LaTeX (copy these values into your LaTeX document)\n",
    "print(\"List1 KDE Points:\")\n",
    "for xi, yi in zip(x, kde_values1):\n",
    "    print(f\"({xi}, {yi})\")\n",
    "print(\"\\nList2 KDE Points:\")\n",
    "for xi, yi in zip(x, kde_values2):\n",
    "    print(f\"({xi}, {yi})\")"
   ]
  },
  {
   "cell_type": "code",
   "execution_count": null,
   "metadata": {},
   "outputs": [],
   "source": [
    "import csv\n",
    "with open('inscores.csv', newline='') as f:\n",
    "    reader = csv.reader(f)\n",
    "    inscores_oe_tune = list(reader)\n",
    "\n",
    "with open('outscores.csv', newline='') as f:\n",
    "    reader = csv.reader(f)\n",
    "    outscores_oe_tune = list(reader)\n",
    "\n",
    "# macs c10\n",
    "plot_inscore = sorted([float(inscore) for inscore in inscores_oe_tune[0]])\n",
    "plot_outscore = sorted([float(outscore) for outscore in outscores_oe_tune[0]])"
   ]
  },
  {
   "cell_type": "code",
   "execution_count": null,
   "metadata": {},
   "outputs": [],
   "source": [
    "from scipy.stats import gaussian_kde\n",
    "import numpy as np\n",
    "# Compute KDEs\n",
    "kde1 = gaussian_kde(plot_inscore)\n",
    "kde2 = gaussian_kde(plot_outscore)\n",
    "\n",
    "# Define a range over which to evaluate the KDEs\n",
    "x = np.linspace(-0.2, 1.4)\n",
    "\n",
    "# Evaluate KDEs\n",
    "kde_values1 = kde1(x)\n",
    "kde_values2 = kde2(x)\n",
    "\n",
    "# Plot the KDEs (optional, for your reference)\n",
    "plt.figure(figsize=(8, 4))\n",
    "plt.plot(x, kde_values1, label='KDE of List 1')\n",
    "plt.plot(x, kde_values2, label='KDE of List 2')\n",
    "plt.legend()\n",
    "plt.show()\n",
    "\n",
    "# Output data points for LaTeX (copy these values into your LaTeX document)\n",
    "print(\"List1 KDE Points:\")\n",
    "for xi, yi in zip(x, kde_values1):\n",
    "    print(f\"({xi}, {yi})\")\n",
    "print(\"\\nList2 KDE Points:\")\n",
    "for xi, yi in zip(x, kde_values2):\n",
    "    print(f\"({xi}, {yi})\")"
   ]
  }
 ],
 "metadata": {
  "kernelspec": {
   "display_name": "cssr",
   "language": "python",
   "name": "python3"
  },
  "language_info": {
   "codemirror_mode": {
    "name": "ipython",
    "version": 3
   },
   "file_extension": ".py",
   "mimetype": "text/x-python",
   "name": "python",
   "nbconvert_exporter": "python",
   "pygments_lexer": "ipython3",
   "version": "3.9.17"
  }
 },
 "nbformat": 4,
 "nbformat_minor": 2
}
